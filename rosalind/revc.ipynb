{
 "cells": [
  {
   "cell_type": "code",
   "execution_count": 1,
   "metadata": {},
   "outputs": [],
   "source": [
    "import pathlib"
   ]
  },
  {
   "cell_type": "code",
   "execution_count": 2,
   "metadata": {},
   "outputs": [],
   "source": [
    "def solve(s: str):\n",
    "    mapping = dict(A=\"T\", T=\"A\", C=\"G\", G=\"C\")\n",
    "    return \"\".join(map(lambda c: mapping[c], reversed(s)))"
   ]
  },
  {
   "cell_type": "code",
   "execution_count": 3,
   "metadata": {},
   "outputs": [
    {
     "data": {
      "text/plain": [
       "'ACCGGGTTTT'"
      ]
     },
     "execution_count": 3,
     "metadata": {},
     "output_type": "execute_result"
    }
   ],
   "source": [
    "s = \"AAAACCCGGT\"\n",
    "solve(s)"
   ]
  },
  {
   "cell_type": "code",
   "execution_count": 4,
   "metadata": {},
   "outputs": [
    {
     "data": {
      "text/plain": [
       "'CTAGTAATTACCCCCCCGGGCATTACTGAATTCGAAAAGTCAGTACATGGAGCGCACCAAGAACAACTCGTCAGTGGCTCCAGGATGAGTAGAAAGACGCTCGTAAACGCGTCCAGCCTAGTCACCTGGTGTACCTCAGAATGGAGTCGATCACTTCGTCTTTGCAGCACAGGGGTACAAGCTACCGGAATTGCTGCAGGTGGTCCAAAATTACGGACAGCCCTGAGTTCTCGAAGGGCTAGGGCCGATATACAGTACTCCGGTCGCGTTGTTTCGTCAGGGGGACGGCTCACACCTTTCCGAATGGTCAGGTGCGGGGCCCCGTGGGGCGAGTACTAGGACCTACGTGTTGAACAAATAGTGCTGTTCACGTTCCTTGAGCAGGTCACGCCGCAATGGTAGTGCCTTAGATGATTACATCCGTATGACAAGAGGTCGACGAGCAAGTCTGCTTATCCCGGTCGCGGTTTCAGATCATAAATTCGTACGAGCCAAGTGCGCGTCGGGACGTGTGTACTGCAACTTGCAATCAGCAGTCGACCCCCTTCCTGCAAACCATGCCGTACAGGGGAATCATACTGCCTCGGCGACCAAGGTCCGAACGGGGGCTCCTTCAGGTCCCGGTCAACCGGGAAGCACGCTCGCAATCCCCCTGAAACCCCTGGGAGCTTCGCTCGTCCTGCGGAAAACCGATTGTCCCGCATATAAGACGATCTATAACTCGCTATCTATATGGAATAGTTCAATCGAGGTAACGGCCCTGTGTGCTGTGCTCATCTGGGCGCCTTGATTTCTCTATGAGACGAAAACTCTATGCCCTACTCCGGGGTAGATCTAATAACCGCTGGCACCCATACTCTCCTAGAATGAAGAGCCCGCGTCGACTCAATAGAGACTACCGCATGCCCGACAGGTGACAGCGAGTTGCAGGCCGTTCATGGCGTTTAAGAT'"
      ]
     },
     "execution_count": 4,
     "metadata": {},
     "output_type": "execute_result"
    }
   ],
   "source": [
    "s = pathlib.Path(\"data/rosalind_revc.txt\").read_text().strip()\n",
    "solve(s)"
   ]
  },
  {
   "cell_type": "code",
   "execution_count": null,
   "metadata": {},
   "outputs": [],
   "source": []
  }
 ],
 "metadata": {
  "kernelspec": {
   "display_name": ".venv",
   "language": "python",
   "name": "python3"
  },
  "language_info": {
   "codemirror_mode": {
    "name": "ipython",
    "version": 3
   },
   "file_extension": ".py",
   "mimetype": "text/x-python",
   "name": "python",
   "nbconvert_exporter": "python",
   "pygments_lexer": "ipython3",
   "version": "3.10.11"
  }
 },
 "nbformat": 4,
 "nbformat_minor": 2
}
