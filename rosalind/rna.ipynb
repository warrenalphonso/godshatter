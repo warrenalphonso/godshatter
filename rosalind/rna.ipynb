{
 "cells": [
  {
   "cell_type": "code",
   "execution_count": 7,
   "metadata": {},
   "outputs": [],
   "source": [
    "import pathlib"
   ]
  },
  {
   "cell_type": "code",
   "execution_count": 5,
   "metadata": {},
   "outputs": [],
   "source": [
    "def solve(s: str):\n",
    "    mapping = dict(A=\"A\", C=\"C\", T=\"U\", G=\"G\")\n",
    "    return \"\".join(list(map(lambda c: mapping[c], s)))"
   ]
  },
  {
   "cell_type": "code",
   "execution_count": 6,
   "metadata": {},
   "outputs": [
    {
     "data": {
      "text/plain": [
       "'GAUGGAACUUGACUACGUAAAUU'"
      ]
     },
     "execution_count": 6,
     "metadata": {},
     "output_type": "execute_result"
    }
   ],
   "source": [
    "s = \"GATGGAACTTGACTACGTAAATT\"\n",
    "solve(s)"
   ]
  },
  {
   "cell_type": "code",
   "execution_count": 9,
   "metadata": {},
   "outputs": [
    {
     "data": {
      "text/plain": [
       "'ACAAAUUUCGUGGGCGGAAUCUCGAGAGCGCAUCUGUACAUUAGUGUGCAUGUCGUAGCACAUAUAUAUUUGGACGGUGCGCUCUGGAAUCCCCAUCUGAGCCCGCGCCGACGAGAUGAGCAAGCAUGCAUGCGACGCACGGGAUAGGUCUUACACCCCAGUAGGCUGUCGACAAGGAACCAAAACUUUUACAUAAGUCAGUCGGAUAACACUCCUUCUAGUGUAAUGCUUCCCACCCCGGUUCAAGCCCGAACCAAGACCUCCGUGUUGUCUCAUCAACAGUAGUAUUAUGCUGAUAAUCUACUAGUUUAUUAACUAAAUUUAAGGGGGAAUCGCGCAUAGCUUCUCCAUCCCUCCGUGGACGACAUUGCGUCUCCCUCAGGCGAGCGUCAGGAAUCUCAAGAGUCCCAGCUCGCUUCUUGGUUCAACCACCGCCUGGACCUCUUGUUAAUUACAAUUAAGCCGCUACGCUAGCCGCGGCAAUAUCACGAAGCCACGUAGUUACAAGUUGCCACGUUCACUCCGGGCGUCUGUUAUUUACGAAAGCGAGAAGCUUAGCGGUUGGGAGGCAGGUAGGUUUAGCUGUUAGCGGAGAAGGGUCCGUAUCGGCGCUAAGAUGCCACCUGCCAGGCCGUGUGUUUACACCAAAAAGACCGCCAGGCAUGCUGGUAUCAUGUCAUCGGCCGGCAAAUCGGCUAGGAUUUGGGCAGAUCGAACCACGAGACUGUCGUUAGCUAUAUGCAUUUUCCAAUACUCAUCGACUGCGCGUGCUGCGCAUCUGUAGCUCUGACAAGCAUAAUAAGCAAUUUCAGUCAAUCCGCAGGUCGUAGAAAUCGUUAUCUUUCUAAUAUCGGUAGGUUAUUUCGCAGUAUCCAGCCCACACAAACGUGCGAAGGGGGCGGAUCAACGAUGAAAUAUAUGCUUCGUAGGGUUAUUUUUGGUAGAUGACGCAACGAGCGUAUUGGCGA'"
      ]
     },
     "execution_count": 9,
     "metadata": {},
     "output_type": "execute_result"
    }
   ],
   "source": [
    "s = pathlib.Path(\"data/rosalind_rna.txt\").read_text().strip()\n",
    "solve(s)"
   ]
  },
  {
   "cell_type": "code",
   "execution_count": null,
   "metadata": {},
   "outputs": [],
   "source": []
  }
 ],
 "metadata": {
  "kernelspec": {
   "display_name": ".venv",
   "language": "python",
   "name": "python3"
  },
  "language_info": {
   "codemirror_mode": {
    "name": "ipython",
    "version": 3
   },
   "file_extension": ".py",
   "mimetype": "text/x-python",
   "name": "python",
   "nbconvert_exporter": "python",
   "pygments_lexer": "ipython3",
   "version": "3.10.11"
  }
 },
 "nbformat": 4,
 "nbformat_minor": 2
}
