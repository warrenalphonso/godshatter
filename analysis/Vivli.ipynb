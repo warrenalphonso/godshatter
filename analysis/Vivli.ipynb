{
 "cells": [
  {
   "cell_type": "code",
   "execution_count": 71,
   "metadata": {},
   "outputs": [],
   "source": [
    "from collections import Counter\n",
    "import json\n",
    "from urllib.parse import urlparse, parse_qs, urlunparse\n",
    "\n",
    "import matplotlib.pyplot as plt\n",
    "import pandas as pd\n",
    "import requests"
   ]
  },
  {
   "cell_type": "markdown",
   "metadata": {},
   "source": [
    "# Vivli"
   ]
  },
  {
   "cell_type": "code",
   "execution_count": 3,
   "metadata": {},
   "outputs": [
    {
     "data": {
      "text/plain": [
       "('https://vivli-prod-cus-srch.search.windows.net/indexes/studies/docs',\n",
       " {'api-key': ['C8237BFE70B9CC48489DC7DD84D88379'],\n",
       "  'api-version': ['2016-09-01'],\n",
       "  '$top': ['1500'],\n",
       "  'search': ['*'],\n",
       "  '$filter': [\"assignedAppType eq 'Default' and ((sponsorType eq 'Industry'))\"],\n",
       "  '$count': ['true'],\n",
       "  'facet': ['studyDesign',\n",
       "   'locationsOfStudySites,count:300,sort:value',\n",
       "   'sponsorType',\n",
       "   'contributorType',\n",
       "   'sponsorName,count:500,sort:value',\n",
       "   'studyType',\n",
       "   'actualEnrollment,interval:100']})"
      ]
     },
     "execution_count": 3,
     "metadata": {},
     "output_type": "execute_result"
    }
   ],
   "source": [
    "# I got this URL from the Vivli search page, let's clean it up\n",
    "_url_with_params = \"https://vivli-prod-cus-srch.search.windows.net/indexes/studies/docs?api-key=C8237BFE70B9CC48489DC7DD84D88379&api-version=2016-09-01&%24top=1500&search=*&%24filter=assignedAppType+eq+%27Default%27+and+%28%28sponsorType+eq+%27Industry%27%29%29&%24count=true&facet=studyDesign&facet=locationsOfStudySites%2Ccount%3A300%2Csort%3Avalue&facet=sponsorType&facet=contributorType&facet=sponsorName%2Ccount%3A500%2Csort%3Avalue&facet=studyType&facet=actualEnrollment%2Cinterval%3A100\"\n",
    "\n",
    "\n",
    "def parse_url(url_with_params):\n",
    "    parsed_url = urlparse(url_with_params)\n",
    "    # Extract params object\n",
    "    params = parse_qs(parsed_url.query)\n",
    "    # Clean up base URL\n",
    "    url = urlunparse(\n",
    "        (parsed_url.scheme, parsed_url.netloc, parsed_url.path, \"\", \"\", \"\"),\n",
    "    )\n",
    "    return url, params\n",
    "\n",
    "\n",
    "URL, PARAMS = parse_url(_url_with_params)\n",
    "URL, PARAMS"
   ]
  },
  {
   "cell_type": "code",
   "execution_count": 4,
   "metadata": {},
   "outputs": [
    {
     "name": "stdout",
     "output_type": "stream",
     "text": [
      "200\n",
      "dict_keys(['@odata.context', '@odata.count', '@search.facets', 'value', '@odata.nextLink'])\n"
     ]
    }
   ],
   "source": [
    "resp = requests.get(URL, params=PARAMS)\n",
    "print(resp.status_code)\n",
    "data = resp.json()\n",
    "print(data.keys())"
   ]
  },
  {
   "cell_type": "code",
   "execution_count": 5,
   "metadata": {},
   "outputs": [
    {
     "data": {
      "text/plain": [
       "4506"
      ]
     },
     "execution_count": 5,
     "metadata": {},
     "output_type": "execute_result"
    }
   ],
   "source": [
    "data[\"@odata.count\"]"
   ]
  },
  {
   "cell_type": "code",
   "execution_count": 6,
   "metadata": {},
   "outputs": [
    {
     "data": {
      "text/plain": [
       "'https://vivli-prod-cus-srch.search.windows.net/indexes/studies/docs?api-key=C8237BFE70B9CC48489DC7DD84D88379&api-version=2016-09-01&$top=500&search=%2A&$filter=assignedAppType%20eq%20%27Default%27%20and%20%28%28sponsorType%20eq%20%27Industry%27%29%29&$count=true&facet=studyDesign&facet=locationsOfStudySites%2Ccount%3A300%2Csort%3Avalue&facet=sponsorType&facet=contributorType&facet=sponsorName%2Ccount%3A500%2Csort%3Avalue&facet=studyType&facet=actualEnrollment%2Cinterval%3A100&$skip=1000'"
      ]
     },
     "execution_count": 6,
     "metadata": {},
     "output_type": "execute_result"
    }
   ],
   "source": [
    "data[\"@odata.nextLink\"]"
   ]
  },
  {
   "cell_type": "code",
   "execution_count": 7,
   "metadata": {},
   "outputs": [
    {
     "data": {
      "text/plain": [
       "('https://vivli-prod-cus-srch.search.windows.net/indexes/studies/docs',\n",
       " {'api-key': ['C8237BFE70B9CC48489DC7DD84D88379'],\n",
       "  'api-version': ['2016-09-01'],\n",
       "  '$top': ['500'],\n",
       "  'search': ['*'],\n",
       "  '$filter': [\"assignedAppType eq 'Default' and ((sponsorType eq 'Industry'))\"],\n",
       "  '$count': ['true'],\n",
       "  'facet': ['studyDesign',\n",
       "   'locationsOfStudySites,count:300,sort:value',\n",
       "   'sponsorType',\n",
       "   'contributorType',\n",
       "   'sponsorName,count:500,sort:value',\n",
       "   'studyType',\n",
       "   'actualEnrollment,interval:100'],\n",
       "  '$skip': ['1000']})"
      ]
     },
     "execution_count": 7,
     "metadata": {},
     "output_type": "execute_result"
    }
   ],
   "source": [
    "parse_url(data[\"@odata.nextLink\"])"
   ]
  },
  {
   "cell_type": "code",
   "execution_count": 8,
   "metadata": {},
   "outputs": [
    {
     "name": "stdout",
     "output_type": "stream",
     "text": [
      "0\n",
      "1\n",
      "2\n",
      "3\n",
      "4\n"
     ]
    }
   ],
   "source": [
    "# Alright, so we want to set '$top' to 4506 and then keep calling '@oadata.nextLink' until we get them all\n",
    "values = []\n",
    "\n",
    "PARAMS[\"$top\"] = [4506]\n",
    "i = 0\n",
    "while True:\n",
    "    print(i)\n",
    "    i += 1\n",
    "    resp = requests.get(URL, PARAMS)\n",
    "    assert resp.status_code == 200\n",
    "    data = resp.json()\n",
    "\n",
    "    values.extend(data[\"value\"])\n",
    "\n",
    "    if \"@odata.nextLink\" not in data:\n",
    "        break\n",
    "    URL, PARAMS = parse_url(data[\"@odata.nextLink\"])"
   ]
  },
  {
   "cell_type": "code",
   "execution_count": 9,
   "metadata": {},
   "outputs": [
    {
     "data": {
      "text/plain": [
       "4506"
      ]
     },
     "execution_count": 9,
     "metadata": {},
     "output_type": "execute_result"
    }
   ],
   "source": [
    "len(values)"
   ]
  },
  {
   "cell_type": "code",
   "execution_count": 10,
   "metadata": {},
   "outputs": [
    {
     "data": {
      "text/plain": [
       "{'@search.score': 1.0,\n",
       " 'id': '29f6a4ed-9d85-48c1-8395-f4ca44b2eed0',\n",
       " 'title': 'A Multi-centre Phase IIa Double-blind, Placebo-controlled Study to Investigate the Efficacy and Safety of GSK3196165 in Subjects With Inflammatory Hand Osteoarthritis',\n",
       " 'sponsorProtocolId': '204851',\n",
       " 'orgId': '374e9659-f80c-4ecb-97e8-81732c82a746',\n",
       " 'orgCode': 'GSK',\n",
       " 'orgName': 'GlaxoSmithKline',\n",
       " 'irpOrgName': 'The Independent Review Panel',\n",
       " 'sponsorName': 'GlaxoSmithKline',\n",
       " 'overrideDisplayDefaults': 'N',\n",
       " 'nctId': 'NCT02683785',\n",
       " 'secondaryIds': ['2015-003089-96'],\n",
       " 'acronym': '',\n",
       " 'participantTermCodes': ['lr5qxyw6ww35',\n",
       "  'kk05h7rpym8x',\n",
       "  'kk05h7rpym8y',\n",
       "  'kk05h7rpym8z',\n",
       "  'kk05h7rpym90',\n",
       "  'kk05h7rpym91',\n",
       "  'kk05h7rpym92',\n",
       "  'r4hp3879lt50'],\n",
       " 'participantTerms': ['Male and Female',\n",
       "  'Adolescent 13-18 years',\n",
       "  'Young Adult 19-24 years',\n",
       "  'Adult 19-44 years',\n",
       "  'Middle Aged 45-64 years',\n",
       "  'Aged 65-79 years',\n",
       "  'Aged, 80 and over 80+ years',\n",
       "  'Osteoarthritis'],\n",
       " 'interventionTermCodes': ['kn3ptfq7c6lz',\n",
       "  '0v2wEQDe22hgdv',\n",
       "  '11g43clqdpk6z',\n",
       "  'q25gz0m8n54j',\n",
       "  'r4hp0r2dwmn5'],\n",
       " 'interventionTerms': ['Pharmacological',\n",
       "  'GSK3196165',\n",
       "  'Subcutaneous ',\n",
       "  'No active treatment',\n",
       "  'Placebo'],\n",
       " 'outcomeTermCodes': ['q25g9q497cwm',\n",
       "  'xGJeamdvWRHJm6',\n",
       "  'q25g9q497cwj',\n",
       "  'ZxR02qDXZKc9RB',\n",
       "  '4k2ZJa16ERS6q7',\n",
       "  'QnB7zaj6DQfOxB',\n",
       "  '0OxZv2mR6ehAw5',\n",
       "  'q25g9q497cwt',\n",
       "  'r4hp3p32yvfr',\n",
       "  'zPmZJ5kdnrhGQG',\n",
       "  'r4hp3qld3stt',\n",
       "  'r4hp3q136gj2',\n",
       "  'r4hp3q307r8h',\n",
       "  'r4hp3qnqsg74',\n",
       "  'r4hp13n1tybw',\n",
       "  'PNxeNQMpdoFWZ6',\n",
       "  '83REKRqjOdh8xQ',\n",
       "  'ADN1eq2mjQHymB'],\n",
       " 'outcomeTerms': ['Pain',\n",
       "  'Pain Intensity Rating Scale',\n",
       "  'Physiological or clinical',\n",
       "  'Swollen Joint Count',\n",
       "  'Tender Joint Count',\n",
       "  'Global Assessment',\n",
       "  \"Patient's Global Evaluation\",\n",
       "  'Adverse events',\n",
       "  'Adverse Event',\n",
       "  'Serious Adverse Event',\n",
       "  'Infection',\n",
       "  'Pulmonary Alveolar Proteinosis',\n",
       "  'Dyspnea',\n",
       "  'Carbon Monoxide Diffusing Capacity',\n",
       "  'Lung Surfactants',\n",
       "  'Antigen detection rate',\n",
       "  'Pharmacokinetics',\n",
       "  'Volume of distribution'],\n",
       " 'searchParticipantTermCodes': ['lr5qxyw6ww35',\n",
       "  'kk05h7rpym8x',\n",
       "  'pwhpjmwdbgkh',\n",
       "  'kk05h7rpym8y',\n",
       "  'pwhpjmwdbgkg',\n",
       "  'kk05h7rpym8z',\n",
       "  'kk05h7rpym90',\n",
       "  'kk05h7rpym91',\n",
       "  'pwhpjmwdbgkf',\n",
       "  'kk05h7rpym92',\n",
       "  'r4hp3879lt50',\n",
       "  'r4hp38580qx0',\n",
       "  'r4hp39tp4chl',\n",
       "  'r4hp39krwnf7',\n",
       "  'r4hp38mgkgb9',\n",
       "  'r4hp39w4k8tw',\n",
       "  'r4hp38c875ch',\n",
       "  'r4hp38mgkgj7',\n",
       "  'r4hp385v5x37',\n",
       "  'r4hp386qfn3l',\n",
       "  'r4hp39j4xync',\n",
       "  'r4hp39kb88yb'],\n",
       " 'searchOutcomeTermCodes': ['q25g9q497cwm',\n",
       "  'xGJeamdvWRHJm6',\n",
       "  'dON68ogA0nHvd6',\n",
       "  'q25g9q497cwj',\n",
       "  'ZxR02qDXZKc9RB',\n",
       "  '4k2ZJa16ERS6q7',\n",
       "  'QnB7zaj6DQfOxB',\n",
       "  '0OxZv2mR6ehAw5',\n",
       "  'OWaO6dOQdGI05w',\n",
       "  'q25g9q497cwt',\n",
       "  'r4hp3p32yvfr',\n",
       "  'r4hp38bjj6m8',\n",
       "  'r4hp39w4k8tw',\n",
       "  'r4hp38c875ch',\n",
       "  'zPmZJ5kdnrhGQG',\n",
       "  'r4hp3qld3stt',\n",
       "  'r4hp3p43rd43',\n",
       "  'r4hp389n8ggq',\n",
       "  'r4hp389n8ggr',\n",
       "  'r4hp38d4gxd8',\n",
       "  'r4hp38d4gxdj',\n",
       "  'R7Nkd32RNoSz4j',\n",
       "  'r4hp39td1sjv',\n",
       "  'r4hp3pdgmgqt',\n",
       "  'ZBNpKMDJJaF93w',\n",
       "  'jAP1rjQJZnI4yZ',\n",
       "  'r4hp38y49nv2',\n",
       "  'r4hp38ck9rcd',\n",
       "  'r4hp38nsfl57',\n",
       "  'r4hp38hhy39v',\n",
       "  'r4hp387r75sv',\n",
       "  '3BgEKNY767HpM0',\n",
       "  'oq7g8jkorxUqqG',\n",
       "  'r4hp3q136gj2',\n",
       "  'r4hp39kb88yb',\n",
       "  'r4hp39snbv18',\n",
       "  'r4hp388bdbtj',\n",
       "  'r4hp38n1qmfp',\n",
       "  'r4hp39mcvc9h',\n",
       "  'r4hp381fy5cr',\n",
       "  'r4hp393pwqm9',\n",
       "  'r4hp39mjd4qj',\n",
       "  'r4hp38mgkgj7',\n",
       "  'r4hp381fy5cq',\n",
       "  'r4hp38jtt70k',\n",
       "  'r4hp38mgkgb9',\n",
       "  'r4hp38jjqmxv',\n",
       "  'r4hp389c5wjc',\n",
       "  'r4hp38lfrxsj',\n",
       "  'r4hp39krwnf7',\n",
       "  'r4hp39491whr',\n",
       "  'r4hp39qlrrnf',\n",
       "  'r4hp3944j36z',\n",
       "  'r4hp39v3rr5b',\n",
       "  'r4hp38c87586',\n",
       "  'r4hp3q307r8h',\n",
       "  'r4hp38mb0ny6',\n",
       "  'r4hp39xx1rzs',\n",
       "  'r4hp394flp25',\n",
       "  'r4hp3qnqsg74',\n",
       "  'r4hp3p7mrcql',\n",
       "  'r4hp3p43rd3h',\n",
       "  'r4hp13n1tybw',\n",
       "  'r4hp13mgns4w',\n",
       "  'r4hp13r46k5s',\n",
       "  'PNxeNQMpdoFWZ6',\n",
       "  'vPoXgk8W91hQ25',\n",
       "  'r4hp5yw4mj85',\n",
       "  'r4hp5zhs6j1c',\n",
       "  'zPNWxozYM3fxBr',\n",
       "  'J3MJNwpNgKcQ2v',\n",
       "  '83REKRqjOdh8xQ',\n",
       "  'ADN1eq2mjQHymB'],\n",
       " 'searchInterventionTermCodes': ['kn3ptfq7c6lz',\n",
       "  '0v2wEQDe22hgdv',\n",
       "  '11g43clqdpk6z',\n",
       "  '11g43clqdpk4z',\n",
       "  'r4hp5z5nty2h',\n",
       "  'r4hp5zj2934z',\n",
       "  'r4hp5zhs6j1c',\n",
       "  'zPNWxozYM3fxBr',\n",
       "  'J3MJNwpNgKcQ2v',\n",
       "  'q25gz0m8n54j',\n",
       "  'r4hp0r2dwmn5',\n",
       "  'PXmmxKGR3ocNEg'],\n",
       " 'actualEnrollment': 44,\n",
       " 'locationsOfStudySites': ['Poland',\n",
       "  'United Kingdom',\n",
       "  'Germany',\n",
       "  'Netherlands',\n",
       "  'United States'],\n",
       " 'studyType': 'Interventional',\n",
       " 'studyDesign': 'ParallelGroup',\n",
       " 'principalInvestigator': ' ',\n",
       " 'studyStartDate': '2016-03-17T00:00:00Z',\n",
       " 'studyEndDate': '2017-11-29T00:00:00Z',\n",
       " 'sponsorType': 'Industry',\n",
       " 'contributorType': 'Unassigned',\n",
       " 'studyDoi': 'https://doi.org/10.25934/00006512',\n",
       " 'phase': 'Phase2',\n",
       " 'conditions': ['Osteoarthritis'],\n",
       " 'interventionNames': ['GSK3196165', 'Placebo'],\n",
       " 'outcomeNames': ['Pain Intensity Rating Scale',\n",
       "  'Pain Intensity Rating Scale',\n",
       "  'Pain Intensity Rating Scale',\n",
       "  'Pain Intensity Rating Scale',\n",
       "  'Pain Intensity Rating Scale',\n",
       "  'Pain Intensity Rating Scale',\n",
       "  'Pain Intensity Rating Scale',\n",
       "  'Pain Intensity Rating Scale',\n",
       "  'Swollen Joint Count',\n",
       "  'Tender Joint Count',\n",
       "  'Global Assessment',\n",
       "  \"Patient's Global Evaluation\",\n",
       "  'Adverse Event',\n",
       "  'Serious Adverse Event',\n",
       "  'Infection',\n",
       "  'Pulmonary Alveolar Proteinosis',\n",
       "  'Dyspnea',\n",
       "  'Carbon Monoxide Diffusing Capacity',\n",
       "  'Lung Surfactants',\n",
       "  'Antigen detection rate',\n",
       "  'Pharmacokinetics',\n",
       "  'Volume of distribution',\n",
       "  'Pharmacokinetics',\n",
       "  'Pharmacokinetics'],\n",
       " 'extractedConditions': ['Osteoarthritis'],\n",
       " 'extractedInterventions': ['GSK3196165', 'Placebo'],\n",
       " 'antimicrobials': [],\n",
       " 'groupingsOfResistancePatterns': [],\n",
       " 'organisms': [],\n",
       " 'specimenSources': [],\n",
       " 'sampleTimes': [],\n",
       " 'countries': [],\n",
       " 'regions': [],\n",
       " 'yearsDataCollected': [],\n",
       " 'containsPediatrics': None,\n",
       " 'containsGenotype': None,\n",
       " 'assignedAppType': 'Default',\n",
       " 'numberOfIsolates': 0,\n",
       " 'program': '',\n",
       " 'lastUpdatedDate': ''}"
      ]
     },
     "execution_count": 10,
     "metadata": {},
     "output_type": "execute_result"
    }
   ],
   "source": [
    "values[0]"
   ]
  },
  {
   "cell_type": "code",
   "execution_count": 16,
   "metadata": {},
   "outputs": [],
   "source": [
    "# with open('vivli.json', 'w') as f:\n",
    "#     json.dump(values, f, indent=4)"
   ]
  },
  {
   "cell_type": "code",
   "execution_count": 11,
   "metadata": {},
   "outputs": [
    {
     "data": {
      "text/plain": [
       "4490"
      ]
     },
     "execution_count": 11,
     "metadata": {},
     "output_type": "execute_result"
    }
   ],
   "source": [
    "# How many have NCT ID?\n",
    "sum(1 for val in values if val[\"nctId\"])\n",
    "# Wow, just 16 don't have one!"
   ]
  },
  {
   "cell_type": "code",
   "execution_count": 12,
   "metadata": {},
   "outputs": [
    {
     "name": "stdout",
     "output_type": "stream",
     "text": [
      "None Lundbeck Phase1\n",
      "None Lundbeck Phase1\n",
      "None Lundbeck Phase1\n",
      "None Lundbeck Phase1\n",
      "None Lundbeck Phase1\n",
      "None Lundbeck Phase1\n",
      "None Lundbeck Phase1\n",
      "None Lundbeck Phase1\n",
      "None Lundbeck Phase1\n",
      "None Lundbeck Phase1\n",
      "None Lundbeck Phase1\n",
      "None Lundbeck Phase1\n",
      "None Lundbeck Phase1\n",
      "None Takeda Phase1\n",
      "None Lundbeck Phase1\n",
      "None Lundbeck Phase1\n"
     ]
    }
   ],
   "source": [
    "for val in values:\n",
    "    if not val[\"nctId\"]:\n",
    "        print(val[\"nctId\"], val[\"orgName\"], val[\"phase\"])"
   ]
  },
  {
   "cell_type": "code",
   "execution_count": 13,
   "metadata": {},
   "outputs": [
    {
     "data": {
      "text/plain": [
       "Counter({'Phase3': 2160,\n",
       "         'Phase2': 958,\n",
       "         'Phase1': 737,\n",
       "         'Phase4': 444,\n",
       "         'None': 86,\n",
       "         'Phase2Phase3': 58,\n",
       "         'Phase1Phase2': 38,\n",
       "         'NA': 24,\n",
       "         'EarlyPhase1': 1})"
      ]
     },
     "execution_count": 13,
     "metadata": {},
     "output_type": "execute_result"
    }
   ],
   "source": [
    "phases = Counter(val[\"phase\"] for val in values)\n",
    "phases"
   ]
  },
  {
   "cell_type": "code",
   "execution_count": 14,
   "metadata": {},
   "outputs": [
    {
     "data": {
      "text/plain": [
       "Counter({'GlaxoSmithKline': 1659,\n",
       "         'Boehringer Ingelheim': 505,\n",
       "         'Johnson & Johnson': 404,\n",
       "         'Takeda': 393,\n",
       "         'Lilly': 280,\n",
       "         'AbbVie': 226,\n",
       "         'Roche': 225,\n",
       "         'AstraZeneca': 161,\n",
       "         'Sanofi': 115,\n",
       "         'Pfizer Inc.': 102,\n",
       "         'Biogen': 101,\n",
       "         'UCB': 64,\n",
       "         'Project Data Sphere': 54,\n",
       "         'Daiichi Sankyo, Inc.': 49,\n",
       "         'Lundbeck': 41,\n",
       "         'Ipsen': 26,\n",
       "         'Otsuka Pharmaceuticals': 20,\n",
       "         'Bayer': 19,\n",
       "         'SMP Sunovion': 16,\n",
       "         'ImmPort (a data-sharing platform funded by the National Institutes of Health)': 12,\n",
       "         'Galapagos': 11,\n",
       "         'Critical Path Institute': 8,\n",
       "         'Alnylam Pharmaceuticals Inc': 5,\n",
       "         'Cure Duchenne': 4,\n",
       "         'Ferox Therapeutics': 1,\n",
       "         'Certara': 1,\n",
       "         'BioLINCC (a data-sharing platform funded by the National Institutes of Health)': 1,\n",
       "         'Vir Biotechnology Inc': 1,\n",
       "         'Nasus Pharma': 1,\n",
       "         'Hospital Universitario Austral': 1})"
      ]
     },
     "execution_count": 14,
     "metadata": {},
     "output_type": "execute_result"
    }
   ],
   "source": [
    "orgs = Counter(val[\"orgName\"] for val in values)\n",
    "orgs"
   ]
  },
  {
   "cell_type": "markdown",
   "metadata": {},
   "source": [
    "# GSK"
   ]
  },
  {
   "cell_type": "code",
   "execution_count": 18,
   "metadata": {},
   "outputs": [
    {
     "data": {
      "text/plain": [
       "('https://stapi.trialscope.com/api/study/search',\n",
       " {'tenantId': ['90317381'],\n",
       "  '_cache': ['Sun Aug 06 2023 23:21:56 GMT-0700 (Pacific Daylight Time)']},\n",
       " {'PageSize': 16,\n",
       "  'PageIndex': 0,\n",
       "  'SortField': 'Location_Distance',\n",
       "  'SortOrder': 'asc',\n",
       "  'Keyword': '',\n",
       "  'Status': 'RECSTATUS_STUDY_COMPLETED',\n",
       "  'Longitude': '',\n",
       "  'Latitude': '',\n",
       "  'LocationName': '',\n",
       "  'ageRange': '',\n",
       "  'Conditions': '',\n",
       "  'TherapeuticArea': '',\n",
       "  'Treatment': '',\n",
       "  'documents': '',\n",
       "  'phases': '',\n",
       "  'SearchTerm': '',\n",
       "  'gender': '',\n",
       "  'patientLevel': '',\n",
       "  'HealthyVolunteer': '',\n",
       "  'PatientLevelSharing': '',\n",
       "  'studyType': '',\n",
       "  'StudyResults': '',\n",
       "  'Products': '',\n",
       "  'HasCTGovResult': '',\n",
       "  'Collaborators': '',\n",
       "  'MileRadius': '',\n",
       "  'SponsorUnits': '',\n",
       "  'UseAndOperatorForFullTextKeyWordSearch': False})"
      ]
     },
     "execution_count": 18,
     "metadata": {},
     "output_type": "execute_result"
    }
   ],
   "source": [
    "_url_with_params = \"https://stapi.trialscope.com/api/study/search?tenantId=90317381&_cache=Sun%20Aug%2006%202023%2023:21:56%20GMT-0700%20(Pacific%20Daylight%20Time)\"\n",
    "URL, PARAMS = parse_url(_url_with_params)\n",
    "DATA = {\n",
    "    \"PageSize\": 16,\n",
    "    \"PageIndex\": 0,\n",
    "    \"SortField\": \"Location_Distance\",\n",
    "    \"SortOrder\": \"asc\",\n",
    "    \"Keyword\": \"\",\n",
    "    \"Status\": \"RECSTATUS_STUDY_COMPLETED\",\n",
    "    \"Longitude\": \"\",\n",
    "    \"Latitude\": \"\",\n",
    "    \"LocationName\": \"\",\n",
    "    \"ageRange\": \"\",\n",
    "    \"Conditions\": \"\",\n",
    "    \"TherapeuticArea\": \"\",\n",
    "    \"Treatment\": \"\",\n",
    "    \"documents\": \"\",\n",
    "    \"phases\": \"\",\n",
    "    \"SearchTerm\": \"\",\n",
    "    \"gender\": \"\",\n",
    "    \"patientLevel\": \"\",\n",
    "    \"HealthyVolunteer\": \"\",\n",
    "    \"PatientLevelSharing\": \"\",\n",
    "    \"studyType\": \"\",\n",
    "    \"StudyResults\": \"\",\n",
    "    \"Products\": \"\",\n",
    "    \"HasCTGovResult\": \"\",\n",
    "    \"Collaborators\": \"\",\n",
    "    \"MileRadius\": \"\",\n",
    "    \"SponsorUnits\": \"\",\n",
    "    \"UseAndOperatorForFullTextKeyWordSearch\": False,\n",
    "}\n",
    "URL, PARAMS, DATA"
   ]
  },
  {
   "cell_type": "code",
   "execution_count": 29,
   "metadata": {},
   "outputs": [
    {
     "data": {
      "text/plain": [
       "(200,\n",
       " dict_keys(['Success', 'Data', 'Count', 'Context', 'ExecutionTimeInMilliSecond']))"
      ]
     },
     "execution_count": 29,
     "metadata": {},
     "output_type": "execute_result"
    }
   ],
   "source": [
    "resp = requests.post(URL, params=PARAMS, json=DATA)\n",
    "data = resp.json()\n",
    "resp.status_code, data.keys()"
   ]
  },
  {
   "cell_type": "code",
   "execution_count": 41,
   "metadata": {},
   "outputs": [
    {
     "data": {
      "text/plain": [
       "(200,\n",
       " dict_keys(['Success', 'Data', 'Count', 'Context', 'ExecutionTimeInMilliSecond']))"
      ]
     },
     "execution_count": 41,
     "metadata": {},
     "output_type": "execute_result"
    }
   ],
   "source": [
    "# There's no URL for the next page but all they're doing is increasing pageIndex\n",
    "# Maybe we can just make pageSize very large?\n",
    "DATA[\"PageSize\"] = 1_000\n",
    "resp = requests.post(URL, params=PARAMS, json=DATA)\n",
    "data = resp.json()\n",
    "resp.status_code, data.keys()"
   ]
  },
  {
   "cell_type": "code",
   "execution_count": 44,
   "metadata": {},
   "outputs": [
    {
     "name": "stdout",
     "output_type": "stream",
     "text": [
      "0\n",
      "1\n",
      "2\n",
      "3\n",
      "4\n",
      "5\n",
      "6\n",
      "7\n"
     ]
    }
   ],
   "source": [
    "values = []\n",
    "\n",
    "DATA[\"PageSize\"] = 1_000  # 1000 results per request\n",
    "DATA[\"PageIndex\"] = 0\n",
    "while True:\n",
    "    print(DATA[\"PageIndex\"])\n",
    "    resp = requests.post(URL, params=PARAMS, json=DATA)\n",
    "    assert resp.status_code == 200\n",
    "    data = resp.json()\n",
    "\n",
    "    if not data[\"Data\"]:\n",
    "        break\n",
    "\n",
    "    values.extend(data[\"Data\"])\n",
    "    DATA[\"PageIndex\"] += 1"
   ]
  },
  {
   "cell_type": "code",
   "execution_count": 45,
   "metadata": {},
   "outputs": [
    {
     "data": {
      "text/plain": [
       "(6494, 6494)"
      ]
     },
     "execution_count": 45,
     "metadata": {},
     "output_type": "execute_result"
    }
   ],
   "source": [
    "len(values), data[\"Count\"]"
   ]
  },
  {
   "cell_type": "code",
   "execution_count": 63,
   "metadata": {},
   "outputs": [],
   "source": [
    "# with open('gsk.json', 'w') as f:\n",
    "#     json.dump(values, f, indent=4)\n",
    "\n",
    "with open(\"gsk.json\", \"r\") as f:\n",
    "    values = json.load(f)"
   ]
  },
  {
   "cell_type": "code",
   "execution_count": 69,
   "metadata": {},
   "outputs": [
    {
     "data": {
      "text/plain": [
       "{'Conditions': [{'DisplayValue:OneLinkTx': 'Diabetes: Type 2',\n",
       "   'LookupValue:OneLinkTx': 'Diabetes Mellitus, Type 2',\n",
       "   'InternalValue': 'CON_DIABETES_2',\n",
       "   'DisplayValue': 'Diabetes: Type 2',\n",
       "   'LookupValue': 'Diabetes Mellitus, Type 2'}],\n",
       " 'Attachments': [{'Title': 'gsk-111497-clinical-study-report-redact.pdf',\n",
       "   'Description': None,\n",
       "   'Url': 'https://filehosting-v2.pharmacm.com/api/Attachment/Download?tenantId=80217381&amp;parentIdentifier=111497&amp;attachmentIdentifier=2f32ea95-e706-482d-9d77-e98d9d3aed24&amp;fileName=gsk-111497-clinical-study-report-redact.pdf&amp;versionIdentifier=',\n",
       "   'ImportSource': 'CT',\n",
       "   'Language': '',\n",
       "   'TypeInternal': 'ATTACHTYPE_CLINICAL_STUDY_REPORT',\n",
       "   'TypeDisplay': 'Clinical Study Report',\n",
       "   'TypeLookupValue': 'Clinical Study Report 1'},\n",
       "  {'Title': '135e02d9-8d87-4c18-8208-ccca5ed0d8f3.pdf',\n",
       "   'Description': None,\n",
       "   'Url': 'https://filehosting-v2.pharmacm.com/api/Attachment/Download?tenantId=80217381&amp;parentIdentifier=111497&amp;attachmentIdentifier=b000fd90-f1cf-47b0-b94c-24511a9253e4&amp;fileName=135e02d9-8d87-4c18-8208-ccca5ed0d8f3.pdf&amp;versionIdentifier=',\n",
       "   'ImportSource': 'CT',\n",
       "   'Language': '',\n",
       "   'TypeInternal': 'ATTACHTYPE_FULL_CTR_SUMMARY',\n",
       "   'TypeDisplay': 'Scientific Result Summary',\n",
       "   'TypeLookupValue': 'Full CTR Summary 1'}],\n",
       " 'GenderDescriptionList': [],\n",
       " 'BiomarkersList': [],\n",
       " 'IsExactMatch': False,\n",
       " 'IsHighValueStudy': False,\n",
       " 'IpdInfoTypeAnalyticCode': False,\n",
       " 'PatientLevelData': True,\n",
       " 'IsFlexibleTrial': False,\n",
       " 'NCTID': 'NCT00823940',\n",
       " 'CTISID': '',\n",
       " 'EudraCT': '',\n",
       " 'Acronym': '',\n",
       " 'CreatedDate': '2018-11-03T11:49:39.1',\n",
       " 'ModifiedDate': '2018-11-07T03:30:51.633',\n",
       " 'Result': {'Baseline': {'BaselineMeasures': [],\n",
       "   'PopulationAnalysisDescription': '',\n",
       "   'TypeUnitsAnalyzed': ''},\n",
       "  'CertainAgreement': {'OtherDetails': '',\n",
       "   'PiSponsorEmployee': None,\n",
       "   'RestrictionType': '',\n",
       "   'RestrictiveAgreement': None},\n",
       "  'LimitationsAndCaveats': {'Description': ''},\n",
       "  'OutcomeMeasures': [],\n",
       "  'ParticipantFlow': {'Periods': [{'CompletedMilestone': {'MilestoneAchievements': [],\n",
       "      'MilestoneComment': ''},\n",
       "     'DropWithdrawReasons': [],\n",
       "     'Milestones': [],\n",
       "     'StartedMilestone': {'MilestoneAchievements': [], 'MilestoneComment': ''},\n",
       "     'Title': 'Overall Study'}],\n",
       "   'PreAssignmentDescription': '',\n",
       "   'RecruitmentDetails': '',\n",
       "   'TypeUnitsAnalyzed': ''},\n",
       "  'PointOfContact': {'Email': '',\n",
       "   'OrganizationName': '',\n",
       "   'PhoneExtension': '',\n",
       "   'PhoneNumber': '',\n",
       "   'Title': ''},\n",
       "  'ReportedEvents': {'AssessmentType': '',\n",
       "   'FrequencyReportingThreshold': '',\n",
       "   'FrequentAdverseEvents': [],\n",
       "   'Notes': '',\n",
       "   'SeriousAdverseEvents': [],\n",
       "   'SourceVocabulary': '',\n",
       "   'TimeFrame': '',\n",
       "   'AllCauseMortComment': ''}},\n",
       " 'Id': 3428,\n",
       " 'UniqueIdentifier': '111497',\n",
       " 'Title': 'A phase 1 study to evaluate the safety and tolerability of GSK1362885 in healthy normal subjects',\n",
       " 'Title:OneLinkTx': '',\n",
       " 'Description': 'The study will investigate whether GSK1362885 is safe and well-tolerated when administered to normal healthy subjects.  The study will also measure blood levels of the study drug to determine how the body processes the drug (pharmacokinetics) and what effects the drug has on the body (pharmacodynamics).',\n",
       " 'Description:OneLinkTx': '',\n",
       " 'StartDate': '2009-01-13T00:00:00',\n",
       " 'CompletionDate': None,\n",
       " 'GenderInternal': 'GENDER_ALL',\n",
       " 'GenderDisplay': 'Female & Male',\n",
       " 'GenderLookup': 'All',\n",
       " 'MinAge': 18,\n",
       " 'MinAgeRaw': '18 years',\n",
       " 'MaxAge': 55,\n",
       " 'MaxAgeRaw': '55 years',\n",
       " 'StatusDisplay': 'Study Complete',\n",
       " 'StatusInternal': 'RECSTATUS_STUDY_COMPLETED',\n",
       " 'StatusLookup': 'Completed',\n",
       " 'PhaseDisplay': 'Phase 1',\n",
       " 'PhaseInternal': 'PHASE_1',\n",
       " 'PhaseLookup': 'Phase 1',\n",
       " 'TherapeuticAreaInternal': 'THERAPEUTIC_UNMAPPED',\n",
       " 'TherapeuticAreaDisplay': 'Unmapped',\n",
       " 'TherapeuticAreaLookup': 'Metabolic',\n",
       " 'HealthyVolunteerInternal': 'HEALTHY_VOL_YES',\n",
       " 'HealthyVolunteerDisplay': 'Yes',\n",
       " 'HealthyVolunteerLookup': 'Yes',\n",
       " 'PatientLevelSharingInternal': 'PATIENT_LEVEL_SHARING_YES',\n",
       " 'PatientLevelSharingDisplay': 'Yes',\n",
       " 'PatientLevelSharingLookup': 'Yes',\n",
       " 'StudyTypeInternal': 'STUDY_TYPE_INTERVENTIONAL',\n",
       " 'StudyTypeDisplay': 'Interventional',\n",
       " 'StudyTypeLookup': 'Interventional',\n",
       " 'ProductInternal': 'PROD_GSK1362885',\n",
       " 'ProductDisplay': 'GSK1362885',\n",
       " 'ProductLookup': 'GSK1362885',\n",
       " 'ProductLookup:OneLinkTx': '',\n",
       " 'SponsoringUnitInternal': 'SPON_UNIT_PHARMACLINPHARM',\n",
       " 'SponsoringUnitDisplay': 'Pharma-ClinPharm',\n",
       " 'SponsoringUnitLookup': 'Pharma-ClinPharm',\n",
       " 'IncludeCitations': False,\n",
       " 'CtmsStatus': '',\n",
       " 'HasResults': False,\n",
       " 'HasLinks': True,\n",
       " 'IsReleasedToCtGov': True,\n",
       " 'LeadSponsorInternal': 'LEAD_SPONSOR_UNMAPPED',\n",
       " 'LeadSponsorDisplay': 'Unmapped',\n",
       " 'LeadSponsorLookup': 'GlaxoSmithKline',\n",
       " 'Location_Name': None,\n",
       " 'Location_CountryDisplay': None,\n",
       " 'Location_CountryInternal': None,\n",
       " 'Location_StateDisplay': None,\n",
       " 'Location_StateInternal': None,\n",
       " 'Location_City': None,\n",
       " 'Location_PostalCode': None,\n",
       " 'Location_StatusDisplay': None,\n",
       " 'Location_StatusInternal': None,\n",
       " 'Location_Distance': None,\n",
       " 'Location_Latitude': None,\n",
       " 'Location_Longitude': None}"
      ]
     },
     "execution_count": 69,
     "metadata": {},
     "output_type": "execute_result"
    }
   ],
   "source": [
    "values[0]"
   ]
  },
  {
   "cell_type": "code",
   "execution_count": 52,
   "metadata": {},
   "outputs": [
    {
     "data": {
      "text/plain": [
       "(3049, 6494)"
      ]
     },
     "execution_count": 52,
     "metadata": {},
     "output_type": "execute_result"
    }
   ],
   "source": [
    "sum(1 for val in values if val[\"NCTID\"]), len(values)"
   ]
  },
  {
   "cell_type": "code",
   "execution_count": 77,
   "metadata": {},
   "outputs": [
    {
     "data": {
      "text/plain": [
       "(Counter({'Phase 1': 1766,\n",
       "          'Phase 3': 1728,\n",
       "          'Phase 2': 941,\n",
       "          'Phase 4': 937,\n",
       "          'N/A': 622,\n",
       "          None: 363,\n",
       "          'Phase 2/Phase 3': 92,\n",
       "          'Phase 1/Phase 2': 45}),\n",
       " Counter({'PHASE_1': 1766,\n",
       "          'PHASE_3': 1728,\n",
       "          'PHASE_2': 941,\n",
       "          'PHASE_4': 937,\n",
       "          'PHASE_NA': 622,\n",
       "          None: 363,\n",
       "          'PHASE_2_3': 92,\n",
       "          'PHASE_1_2': 45}),\n",
       " Counter({'Phase 1': 1766,\n",
       "          'Phase 3': 1728,\n",
       "          'Phase 2': 941,\n",
       "          'Phase 4': 937,\n",
       "          'N/A': 622,\n",
       "          None: 363,\n",
       "          'Phase 2/Phase 3': 86,\n",
       "          'Phase 1/Phase 2': 33,\n",
       "          'Phase 1/2': 12,\n",
       "          'phase 2/3': 6}))"
      ]
     },
     "execution_count": 77,
     "metadata": {},
     "output_type": "execute_result"
    }
   ],
   "source": [
    "v = values[0]\n",
    "v[\"PhaseDisplay\"], v[\"PhaseInternal\"], v[\"PhaseLookup\"]\n",
    "phase_displays = Counter(val[\"PhaseDisplay\"] for val in values)\n",
    "phase_internals = Counter(val[\"PhaseInternal\"] for val in values)\n",
    "phase_lookups = Counter(val[\"PhaseLookup\"] for val in values)\n",
    "phase_displays, phase_internals, phase_lookups  # Seems like PhaseDisplay/Internal is best -- need to combine 'Phase N/A' and None?"
   ]
  },
  {
   "cell_type": "code",
   "execution_count": 82,
   "metadata": {},
   "outputs": [
    {
     "data": {
      "text/html": [
       "<div>\n",
       "<style scoped>\n",
       "    .dataframe tbody tr th:only-of-type {\n",
       "        vertical-align: middle;\n",
       "    }\n",
       "\n",
       "    .dataframe tbody tr th {\n",
       "        vertical-align: top;\n",
       "    }\n",
       "\n",
       "    .dataframe thead th {\n",
       "        text-align: right;\n",
       "    }\n",
       "</style>\n",
       "<table border=\"1\" class=\"dataframe\">\n",
       "  <thead>\n",
       "    <tr style=\"text-align: right;\">\n",
       "      <th></th>\n",
       "      <th>Conditions</th>\n",
       "      <th>Attachments</th>\n",
       "      <th>GenderDescriptionList</th>\n",
       "      <th>BiomarkersList</th>\n",
       "      <th>IsExactMatch</th>\n",
       "      <th>IsHighValueStudy</th>\n",
       "      <th>IpdInfoTypeAnalyticCode</th>\n",
       "      <th>PatientLevelData</th>\n",
       "      <th>IsFlexibleTrial</th>\n",
       "      <th>NCTID</th>\n",
       "      <th>...</th>\n",
       "      <th>Result.PointOfContact.PhoneNumber</th>\n",
       "      <th>Result.PointOfContact.Title</th>\n",
       "      <th>Result.ReportedEvents.AssessmentType</th>\n",
       "      <th>Result.ReportedEvents.FrequencyReportingThreshold</th>\n",
       "      <th>Result.ReportedEvents.FrequentAdverseEvents</th>\n",
       "      <th>Result.ReportedEvents.Notes</th>\n",
       "      <th>Result.ReportedEvents.SeriousAdverseEvents</th>\n",
       "      <th>Result.ReportedEvents.SourceVocabulary</th>\n",
       "      <th>Result.ReportedEvents.TimeFrame</th>\n",
       "      <th>Result.ReportedEvents.AllCauseMortComment</th>\n",
       "    </tr>\n",
       "  </thead>\n",
       "  <tbody>\n",
       "    <tr>\n",
       "      <th>0</th>\n",
       "      <td>[{'DisplayValue:OneLinkTx': 'Diabetes: Type 2'...</td>\n",
       "      <td>[{'Title': 'gsk-111497-clinical-study-report-r...</td>\n",
       "      <td>[]</td>\n",
       "      <td>[]</td>\n",
       "      <td>False</td>\n",
       "      <td>False</td>\n",
       "      <td>False</td>\n",
       "      <td>True</td>\n",
       "      <td>False</td>\n",
       "      <td>NCT00823940</td>\n",
       "      <td>...</td>\n",
       "      <td></td>\n",
       "      <td></td>\n",
       "      <td></td>\n",
       "      <td></td>\n",
       "      <td>[]</td>\n",
       "      <td></td>\n",
       "      <td>[]</td>\n",
       "      <td></td>\n",
       "      <td></td>\n",
       "      <td></td>\n",
       "    </tr>\n",
       "    <tr>\n",
       "      <th>1</th>\n",
       "      <td>[{'DisplayValue:OneLinkTx': 'Human Papillomavi...</td>\n",
       "      <td>[{'Title': 'gsk-111507-clinical-study-report-r...</td>\n",
       "      <td>[]</td>\n",
       "      <td>[]</td>\n",
       "      <td>False</td>\n",
       "      <td>False</td>\n",
       "      <td>False</td>\n",
       "      <td>True</td>\n",
       "      <td>False</td>\n",
       "      <td>NCT00652938</td>\n",
       "      <td>...</td>\n",
       "      <td>866-435-7343</td>\n",
       "      <td>GSK Response Center</td>\n",
       "      <td></td>\n",
       "      <td>5</td>\n",
       "      <td>[{'AdverseEventStats': [{'InterventionGroup': ...</td>\n",
       "      <td></td>\n",
       "      <td>[{'AdverseEventStats': [{'InterventionGroup': ...</td>\n",
       "      <td></td>\n",
       "      <td></td>\n",
       "      <td></td>\n",
       "    </tr>\n",
       "    <tr>\n",
       "      <th>2</th>\n",
       "      <td>[{'DisplayValue:OneLinkTx': 'Tuberculosis', 'L...</td>\n",
       "      <td>[{'Title': 'aafab9da-891a-4969-84ef-7f7b71458c...</td>\n",
       "      <td>[]</td>\n",
       "      <td>[]</td>\n",
       "      <td>False</td>\n",
       "      <td>False</td>\n",
       "      <td>False</td>\n",
       "      <td>True</td>\n",
       "      <td>False</td>\n",
       "      <td>NCT00707967</td>\n",
       "      <td>...</td>\n",
       "      <td>866-435-7343</td>\n",
       "      <td>GSK Response Center</td>\n",
       "      <td>Systematic Assessment</td>\n",
       "      <td>5</td>\n",
       "      <td>[{'AdverseEventStats': [{'InterventionGroup': ...</td>\n",
       "      <td></td>\n",
       "      <td>[{'AdverseEventStats': [{'InterventionGroup': ...</td>\n",
       "      <td>MedDRA 12.1</td>\n",
       "      <td>Solicited local/general symptoms: during the 7...</td>\n",
       "      <td></td>\n",
       "    </tr>\n",
       "    <tr>\n",
       "      <th>3</th>\n",
       "      <td>[{'DisplayValue:OneLinkTx': 'Rhinitis', 'Looku...</td>\n",
       "      <td>[{'Title': 'gsk-111610-clinical-study-report-r...</td>\n",
       "      <td>[]</td>\n",
       "      <td>[]</td>\n",
       "      <td>False</td>\n",
       "      <td>False</td>\n",
       "      <td>False</td>\n",
       "      <td>True</td>\n",
       "      <td>False</td>\n",
       "      <td>NCT00907933</td>\n",
       "      <td>...</td>\n",
       "      <td></td>\n",
       "      <td></td>\n",
       "      <td></td>\n",
       "      <td></td>\n",
       "      <td>[]</td>\n",
       "      <td></td>\n",
       "      <td>[]</td>\n",
       "      <td></td>\n",
       "      <td></td>\n",
       "      <td></td>\n",
       "    </tr>\n",
       "    <tr>\n",
       "      <th>4</th>\n",
       "      <td>[{'DisplayValue:OneLinkTx': 'Rhinitis', 'Looku...</td>\n",
       "      <td>[{'Title': 'gsk-111611-clinical-study-report-r...</td>\n",
       "      <td>[]</td>\n",
       "      <td>[]</td>\n",
       "      <td>False</td>\n",
       "      <td>False</td>\n",
       "      <td>False</td>\n",
       "      <td>True</td>\n",
       "      <td>False</td>\n",
       "      <td>NCT00731250</td>\n",
       "      <td>...</td>\n",
       "      <td></td>\n",
       "      <td></td>\n",
       "      <td></td>\n",
       "      <td></td>\n",
       "      <td>[]</td>\n",
       "      <td></td>\n",
       "      <td>[]</td>\n",
       "      <td></td>\n",
       "      <td></td>\n",
       "      <td></td>\n",
       "    </tr>\n",
       "  </tbody>\n",
       "</table>\n",
       "<p>5 rows × 101 columns</p>\n",
       "</div>"
      ],
      "text/plain": [
       "                                          Conditions  \\\n",
       "0  [{'DisplayValue:OneLinkTx': 'Diabetes: Type 2'...   \n",
       "1  [{'DisplayValue:OneLinkTx': 'Human Papillomavi...   \n",
       "2  [{'DisplayValue:OneLinkTx': 'Tuberculosis', 'L...   \n",
       "3  [{'DisplayValue:OneLinkTx': 'Rhinitis', 'Looku...   \n",
       "4  [{'DisplayValue:OneLinkTx': 'Rhinitis', 'Looku...   \n",
       "\n",
       "                                         Attachments GenderDescriptionList  \\\n",
       "0  [{'Title': 'gsk-111497-clinical-study-report-r...                    []   \n",
       "1  [{'Title': 'gsk-111507-clinical-study-report-r...                    []   \n",
       "2  [{'Title': 'aafab9da-891a-4969-84ef-7f7b71458c...                    []   \n",
       "3  [{'Title': 'gsk-111610-clinical-study-report-r...                    []   \n",
       "4  [{'Title': 'gsk-111611-clinical-study-report-r...                    []   \n",
       "\n",
       "  BiomarkersList  IsExactMatch  IsHighValueStudy  IpdInfoTypeAnalyticCode  \\\n",
       "0             []         False             False                    False   \n",
       "1             []         False             False                    False   \n",
       "2             []         False             False                    False   \n",
       "3             []         False             False                    False   \n",
       "4             []         False             False                    False   \n",
       "\n",
       "   PatientLevelData  IsFlexibleTrial        NCTID  ...  \\\n",
       "0              True            False  NCT00823940  ...   \n",
       "1              True            False  NCT00652938  ...   \n",
       "2              True            False  NCT00707967  ...   \n",
       "3              True            False  NCT00907933  ...   \n",
       "4              True            False  NCT00731250  ...   \n",
       "\n",
       "  Result.PointOfContact.PhoneNumber Result.PointOfContact.Title  \\\n",
       "0                                                                 \n",
       "1                      866-435-7343         GSK Response Center   \n",
       "2                      866-435-7343         GSK Response Center   \n",
       "3                                                                 \n",
       "4                                                                 \n",
       "\n",
       "  Result.ReportedEvents.AssessmentType  \\\n",
       "0                                        \n",
       "1                                        \n",
       "2                Systematic Assessment   \n",
       "3                                        \n",
       "4                                        \n",
       "\n",
       "  Result.ReportedEvents.FrequencyReportingThreshold  \\\n",
       "0                                                     \n",
       "1                                                 5   \n",
       "2                                                 5   \n",
       "3                                                     \n",
       "4                                                     \n",
       "\n",
       "         Result.ReportedEvents.FrequentAdverseEvents  \\\n",
       "0                                                 []   \n",
       "1  [{'AdverseEventStats': [{'InterventionGroup': ...   \n",
       "2  [{'AdverseEventStats': [{'InterventionGroup': ...   \n",
       "3                                                 []   \n",
       "4                                                 []   \n",
       "\n",
       "   Result.ReportedEvents.Notes  \\\n",
       "0                                \n",
       "1                                \n",
       "2                                \n",
       "3                                \n",
       "4                                \n",
       "\n",
       "          Result.ReportedEvents.SeriousAdverseEvents  \\\n",
       "0                                                 []   \n",
       "1  [{'AdverseEventStats': [{'InterventionGroup': ...   \n",
       "2  [{'AdverseEventStats': [{'InterventionGroup': ...   \n",
       "3                                                 []   \n",
       "4                                                 []   \n",
       "\n",
       "  Result.ReportedEvents.SourceVocabulary  \\\n",
       "0                                          \n",
       "1                                          \n",
       "2                            MedDRA 12.1   \n",
       "3                                          \n",
       "4                                          \n",
       "\n",
       "                     Result.ReportedEvents.TimeFrame  \\\n",
       "0                                                      \n",
       "1                                                      \n",
       "2  Solicited local/general symptoms: during the 7...   \n",
       "3                                                      \n",
       "4                                                      \n",
       "\n",
       "  Result.ReportedEvents.AllCauseMortComment  \n",
       "0                                            \n",
       "1                                            \n",
       "2                                            \n",
       "3                                            \n",
       "4                                            \n",
       "\n",
       "[5 rows x 101 columns]"
      ]
     },
     "execution_count": 82,
     "metadata": {},
     "output_type": "execute_result"
    }
   ],
   "source": [
    "df = pd.json_normalize(values)\n",
    "df.head()"
   ]
  },
  {
   "cell_type": "code",
   "execution_count": 87,
   "metadata": {},
   "outputs": [
    {
     "data": {
      "text/plain": [
       "PhaseDisplay\n",
       "Phase 1    1811\n",
       "Phase 3    1728\n",
       "Phase 2    1033\n",
       "N/A         985\n",
       "Phase 4     937\n",
       "Name: count, dtype: int64"
      ]
     },
     "execution_count": 87,
     "metadata": {},
     "output_type": "execute_result"
    }
   ],
   "source": [
    "df[\"PhaseDisplay\"] = df[\"PhaseDisplay\"].replace(\n",
    "    {\n",
    "        None: \"N/A\",\n",
    "        \"Phase 1/Phase 2\": \"Phase 1\",\n",
    "        \"Phase 2/Phase 3\": \"Phase 2\",\n",
    "    }\n",
    ")\n",
    "df[\"PhaseDisplay\"].value_counts()"
   ]
  },
  {
   "cell_type": "code",
   "execution_count": 93,
   "metadata": {},
   "outputs": [
    {
     "data": {
      "image/png": "[encoded data removed]",
      "text/plain": [
       "<Figure size 640x480 with 1 Axes>"
      ]
     },
     "metadata": {},
     "output_type": "display_data"
    }
   ],
   "source": [
    "phase_displays = df[\"PhaseDisplay\"].value_counts()\n",
    "# Remove \"N/A\" and append it at the end\n",
    "if \"N/A\" in phase_displays.index:\n",
    "    na_count = phase_displays[\"N/A\"]\n",
    "    phase_displays = phase_displays.drop(\"N/A\")\n",
    "    phase_displays[\"N/A\"] = na_count\n",
    "\n",
    "# Get the labels and values\n",
    "labels = phase_displays.index.tolist()\n",
    "vals = phase_displays.values.tolist()\n",
    "# Create a bar graph\n",
    "plt.bar(labels, vals)\n",
    "\n",
    "# Add labels and a title\n",
    "plt.xlabel(\"Phases\")\n",
    "plt.ylabel(\"Count\")\n",
    "plt.title(\"gsk-studyregister.com\")\n",
    "plt.xticks(rotation=45, ha=\"right\")\n",
    "\n",
    "# Show the graph\n",
    "plt.show()"
   ]
  },
  {
   "cell_type": "code",
   "execution_count": 100,
   "metadata": {},
   "outputs": [
    {
     "data": {
      "image/png": "[encoded data removed]",
      "text/plain": [
       "<Figure size 1200x600 with 1 Axes>"
      ]
     },
     "metadata": {},
     "output_type": "display_data"
    }
   ],
   "source": [
    "# Convert the start dates to datetime objects\n",
    "df[\"StartDate\"] = pd.to_datetime(df[\"StartDate\"], errors=\"coerce\")\n",
    "df[\"StartYear\"] = df[\"StartDate\"].dt.year\n",
    "# Ensure 'StartYear' is an integer type (after coercing NaT to NaN)\n",
    "df[\"StartYear\"] = df[\"StartYear\"].fillna(0).astype(int)\n",
    "# Don't call assign missing date \"0\", assign \"N/A\" instead\n",
    "df[\"StartYear\"] = df[\"StartYear\"].replace(0, \"N/A\")\n",
    "\n",
    "phase_counts_by_year = df.groupby([\"StartYear\", \"PhaseDisplay\"]).size().unstack(fill_value=0)\n",
    "\n",
    "# Reorder columns to ensure \"N/A\" comes last\n",
    "phase_order = [col for col in phase_counts_by_year.columns if col != \"N/A\"]\n",
    "phase_order.append(\"N/A\")\n",
    "phase_counts_by_year = phase_counts_by_year[phase_order]\n",
    "\n",
    "# Plot a histogram for each phase\n",
    "phase_counts_by_year.plot(kind=\"bar\", stacked=True, figsize=(12, 6))\n",
    "\n",
    "plt.xlabel(\"Year\")\n",
    "plt.ylabel(\"Count\")\n",
    "plt.title(\"gsk-studyregister.com\")\n",
    "plt.xticks(\n",
    "    ticks=range(len(phase_counts_by_year.index)),\n",
    "    labels=phase_counts_by_year.index.astype(str),\n",
    "    rotation=45,\n",
    "    ha=\"right\",\n",
    ")\n",
    "plt.legend(title=\"Phases\")\n",
    "plt.show()"
   ]
  },
  {
   "cell_type": "code",
   "execution_count": 102,
   "metadata": {},
   "outputs": [
    {
     "data": {
      "image/png": "[encoded data removed]",
      "text/plain": [
       "<Figure size 1200x600 with 1 Axes>"
      ]
     },
     "metadata": {},
     "output_type": "display_data"
    }
   ],
   "source": [
    "# Group by 'StartYear' and 'PhaseDisplay' and unstack\n",
    "phase_counts_by_year = df.groupby([\"StartYear\", \"PhaseDisplay\"]).size().unstack(fill_value=0)\n",
    "\n",
    "# Drop unwanted phases\n",
    "phase_counts_by_year.drop(columns=[\"N/A\", \"Phase 1\", \"Phase 2\"], inplace=True, errors=\"ignore\")\n",
    "\n",
    "# Plot a histogram for each phase\n",
    "phase_counts_by_year.plot(kind=\"bar\", stacked=True, figsize=(12, 6))\n",
    "\n",
    "plt.xlabel(\"Year\")\n",
    "plt.ylabel(\"Count\")\n",
    "plt.title(\"gsk-studyregister.com\")\n",
    "plt.xticks(\n",
    "    ticks=range(len(phase_counts_by_year.index)),\n",
    "    labels=phase_counts_by_year.index.astype(str),\n",
    "    rotation=45,\n",
    "    ha=\"right\",\n",
    ")\n",
    "plt.legend(title=\"Phases\")\n",
    "plt.show()"
   ]
  },
  {
   "cell_type": "code",
   "execution_count": 103,
   "metadata": {},
   "outputs": [],
   "source": [
    "# WTF happened to Phase 3 trials since 2015?"
   ]
  },
  {
   "cell_type": "code",
   "execution_count": 105,
   "metadata": {},
   "outputs": [
    {
     "data": {
      "text/plain": [
       "array(['Study Complete'], dtype=object)"
      ]
     },
     "execution_count": 105,
     "metadata": {},
     "output_type": "execute_result"
    }
   ],
   "source": [
    "df[\"StatusDisplay\"].unique()"
   ]
  }
 ],
 "metadata": {
  "kernelspec": {
   "display_name": ".venv",
   "language": "python",
   "name": "python3"
  },
  "language_info": {
   "codemirror_mode": {
    "name": "ipython",
    "version": 3
   },
   "file_extension": ".py",
   "mimetype": "text/x-python",
   "name": "python",
   "nbconvert_exporter": "python",
   "pygments_lexer": "ipython3",
   "version": "3.10.10"
  },
  "orig_nbformat": 4
 },
 "nbformat": 4,
 "nbformat_minor": 2
}
