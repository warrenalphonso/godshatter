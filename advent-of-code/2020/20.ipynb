{
 "cells": [
  {
   "cell_type": "code",
   "execution_count": 56,
   "id": "cloudy-paint",
   "metadata": {},
   "outputs": [
    {
     "data": {
      "text/plain": [
       "TestResults(failed=0, attempted=16)"
      ]
     },
     "execution_count": 56,
     "metadata": {},
     "output_type": "execute_result"
    }
   ],
   "source": [
    "import re\n",
    "from collections import Counter\n",
    "from helpers import data\n",
    "import doctest\n",
    "\n",
    "doctest.testmod()"
   ]
  },
  {
   "cell_type": "code",
   "execution_count": 8,
   "id": "original-position",
   "metadata": {},
   "outputs": [],
   "source": [
    "images_arr = data(20, parser=lambda l: l.split(\"\\n\"), sep=\"\\n\\n\")\n",
    "images = {}\n",
    "for first, *rest in images_arr:\n",
    "    image_id = re.search(\"\\d+\", first).group()\n",
    "    images[int(image_id)] = rest"
   ]
  },
  {
   "cell_type": "code",
   "execution_count": 9,
   "id": "hydraulic-intranet",
   "metadata": {},
   "outputs": [
    {
     "data": {
      "text/plain": [
       "144"
      ]
     },
     "execution_count": 9,
     "metadata": {},
     "output_type": "execute_result"
    }
   ],
   "source": [
    "len(images)"
   ]
  },
  {
   "cell_type": "code",
   "execution_count": 10,
   "id": "electric-integral",
   "metadata": {},
   "outputs": [
    {
     "data": {
      "text/plain": [
       "['##..#...#.',\n",
       " '.....#...#',\n",
       " '#...#...##',\n",
       " '#....#...#',\n",
       " '#....#.#..',\n",
       " '.#..#.#.##',\n",
       " '.........#',\n",
       " '##...#....',\n",
       " '#...##...#',\n",
       " '#..#..#.##']"
      ]
     },
     "execution_count": 10,
     "metadata": {},
     "output_type": "execute_result"
    }
   ],
   "source": [
    "images[3301]"
   ]
  },
  {
   "cell_type": "markdown",
   "id": "unavailable-distribution",
   "metadata": {},
   "source": [
    "**Part 1:** Find the correct order and orientation of images so that their borders line up. Multiply the IDs of the four corner images. "
   ]
  },
  {
   "cell_type": "markdown",
   "metadata": {},
   "source": [
    "In order to avoid having to define a grid, I'll find a corner tile and set it to\n",
    "the top-left (so maybe rotate it a bit). Then I go left-to-right and find matches\n",
    "to the edges, then top-to-down."
   ]
  },
  {
   "cell_type": "code",
   "execution_count": 23,
   "metadata": {},
   "outputs": [],
   "source": [
    "def transpose(grid):\n",
    "    # Extra list calls are to get a list of lists instead of list of tuples\n",
    "    return list(map(list, zip(*grid)))\n",
    "\n",
    "\n",
    "def flip_horizontally(grid):\n",
    "    flipped_grid = []\n",
    "    for row in grid:\n",
    "        flipped_grid.append(list(reversed(row)))\n",
    "    return flipped_grid"
   ]
  },
  {
   "cell_type": "code",
   "execution_count": 12,
   "metadata": {},
   "outputs": [],
   "source": [
    "# Get top, bottom, left, right of a 2D array\n",
    "def top(grid):\n",
    "    \"\"\"\n",
    "    >>> top([['A', 'B'], ['C', 'D']])\n",
    "    ['A', 'B']\n",
    "    \"\"\"\n",
    "    return grid[0]\n",
    "\n",
    "\n",
    "def bottom(grid):\n",
    "    \"\"\"\n",
    "    >>> bottom([['A', 'B'], ['C', 'D']])\n",
    "    ['C', 'D']\n",
    "    \"\"\"\n",
    "    return grid[-1]\n",
    "\n",
    "\n",
    "def left(grid):\n",
    "    \"\"\"\n",
    "    >>> left([['A', 'B'], ['C', 'D']])\n",
    "    ['A', 'C']\n",
    "    \"\"\"\n",
    "    return top(transpose(grid))\n",
    "\n",
    "\n",
    "def right(grid):\n",
    "    \"\"\"\n",
    "    >>> right([['A', 'B'], ['C', 'D']])\n",
    "    ['B', 'D']\n",
    "    \"\"\"\n",
    "    return bottom(transpose(grid))"
   ]
  },
  {
   "cell_type": "code",
   "execution_count": 24,
   "metadata": {},
   "outputs": [],
   "source": [
    "def rotate_clockwise(grid):\n",
    "    \"\"\"\n",
    "    >>> rotate_clockwise([['A', 'B'], ['C', 'D']])\n",
    "    [['C', 'A'], ['D', 'B']]\n",
    "    \"\"\"\n",
    "    # Transpose and flip vertical\n",
    "    return flip_horizontally(transpose(grid))"
   ]
  },
  {
   "cell_type": "code",
   "execution_count": 63,
   "metadata": {},
   "outputs": [],
   "source": [
    "def fit_left(side, grid):\n",
    "    \"\"\"\n",
    "    Check if any rotated or flipped version of `grid` has a left side that\n",
    "    matches `side`. Return that orientation if it exists, else None.\n",
    "\n",
    "    >>> fit_left(['A', 'B'], [['A', 'B'], ['C', 'D']])\n",
    "    [['A', 'C'], ['B', 'D']]\n",
    "    >>> fit_left(['A', 'B'], [['A', 'C'], ['D', 'B']])\n",
    "    >>> m = [['A', 'B', 'C'], ['D', 'E', 'F'], ['G', 'H', 'I']]\n",
    "    >>> fit_left(['A', 'D', 'G'], m) is not None\n",
    "    True\n",
    "    >>> fit_left(['G', 'H', 'I'], m) is not None\n",
    "    True\n",
    "    >>> fit_left(['I', 'F', 'C'], m) is not None\n",
    "    True\n",
    "    >>> fit_left(['C', 'B', 'A'], m) is not None\n",
    "    True\n",
    "    >>> fit_left(['G', 'D', 'A'], m) is not None\n",
    "    True\n",
    "    >>> fit_left(['I', 'H', 'G'], m) is not None\n",
    "    True\n",
    "    >>> fit_left(['C', 'F', 'I'], m) is not None\n",
    "    True\n",
    "    >>> fit_left(['A', 'B', 'C'], m) is not None\n",
    "    True\n",
    "    \"\"\"\n",
    "    for _ in range(4):\n",
    "        if left(grid) == side:\n",
    "            return grid\n",
    "        grid = rotate_clockwise(grid)\n",
    "\n",
    "    grid = transpose(grid)\n",
    "    for _ in range(4):\n",
    "        if left(grid) == side:\n",
    "            return grid\n",
    "        grid = rotate_clockwise(grid)\n",
    "\n",
    "    return None"
   ]
  },
  {
   "cell_type": "code",
   "execution_count": 69,
   "metadata": {},
   "outputs": [],
   "source": [
    "# Just find corner tiles without assembling image\n",
    "corner_tiles = []\n",
    "for image_id, image in images.items():\n",
    "    matched_sides = 0\n",
    "\n",
    "    # Check if each side is found at least once\n",
    "    for i, side in enumerate((top(image), bottom(image), left(image), right(image))):\n",
    "        for check_image_id, check_image in images.items():\n",
    "            if image_id == check_image_id:\n",
    "                continue\n",
    "            if fit_left(side, check_image):\n",
    "                matched_sides += 1\n",
    "                break\n",
    "    if matched_sides == 2:\n",
    "        corner_tiles.append(image)"
   ]
  },
  {
   "cell_type": "code",
   "execution_count": 70,
   "metadata": {},
   "outputs": [
    {
     "data": {
      "text/plain": [
       "123"
      ]
     },
     "execution_count": 70,
     "metadata": {},
     "output_type": "execute_result"
    }
   ],
   "source": [
    "# Broken somewhere\n",
    "len(corner_tiles)"
   ]
  },
  {
   "cell_type": "code",
   "execution_count": null,
   "metadata": {},
   "outputs": [],
   "source": [
    "# HINT: Choose an arbitrary orientation for all edges instead of worrying about\n",
    "# flipping. And use 1D arrays, so lists of strings instead of 2D arrays. Cleaner."
   ]
  }
 ],
 "metadata": {
  "kernelspec": {
   "display_name": "Python 3.7.9",
   "language": "python",
   "name": "python3"
  },
  "language_info": {
   "codemirror_mode": {
    "name": "ipython",
    "version": 3
   },
   "file_extension": ".py",
   "mimetype": "text/x-python",
   "name": "python",
   "nbconvert_exporter": "python",
   "pygments_lexer": "ipython3",
   "version": "3.7.9"
  }
 },
 "nbformat": 4,
 "nbformat_minor": 5
}
